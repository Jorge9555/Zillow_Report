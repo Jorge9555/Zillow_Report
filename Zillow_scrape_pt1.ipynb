{
 "cells": [
  {
   "cell_type": "markdown",
   "id": "b9aa3e47-8d26-47d4-88ae-dbe1fd7b53eb",
   "metadata": {},
   "source": [
    "## Goal ##\n",
    "Take data from Zillow and make it onto a pandas DF for these cities:\n",
    "- Los Angeles\n",
    "- Pittsburgh\n",
    "- Chicago\n",
    "- Clevaland\n",
    "- New York\n",
    "- Washington DC\n",
    "  \n",
    "I want to know\n",
    "- median price\n",
    "- how many sold in the past week"
   ]
  },
  {
   "cell_type": "code",
   "execution_count": 4,
   "id": "d4141e69-b570-4bec-97b5-eefc09f93ee0",
   "metadata": {},
   "outputs": [],
   "source": [
    "from bs4 import BeautifulSoup as soup\n",
    "import requests "
   ]
  },
  {
   "cell_type": "code",
   "execution_count": 32,
   "id": "ad6bae17-a3d2-4fd6-91d5-220290bba23c",
   "metadata": {},
   "outputs": [],
   "source": [
    "#the header here is to find the user-agent and referer on the network tab so I get a 200 status code\n",
    "header = { \n",
    "    'User-Agent': 'Mozilla/5.0 (Macintosh; Intel Mac OS X 10_15_7) AppleWebKit/537.36 (KHTML, like Gecko) Chrome/123.0.0.0 Safari/537.36',\n",
    "    'referer': \"https://www.zillow.com/los-angeles-ca/rentals\" \n",
    "         }"
   ]
  },
  {
   "cell_type": "code",
   "execution_count": 16,
   "id": "8687b687-432c-4b31-826b-3ce565299a1a",
   "metadata": {},
   "outputs": [],
   "source": [
    "url = 'https://www.zillow.com/los-angeles-ca/rentals/?searchQueryState=%7B%22pagination%22%3A%7B%7D%2C%22isMapVisible%22%3Afalse%2C%22mapBounds%22%3A%7B%22west%22%3A-118.77152048792915%2C%22east%22%3A-117.8239496871479%2C%22south%22%3A33.521304236830375%2C%22north%22%3A34.29404076453647%7D%2C%22usersSearchTerm%22%3A%22Los%20Angeles%2C%20CA%22%2C%22regionSelection%22%3A%5B%7B%22regionId%22%3A12447%2C%22regionType%22%3A6%7D%5D%2C%22filterState%22%3A%7B%22fr%22%3A%7B%22value%22%3Atrue%7D%2C%22fsba%22%3A%7B%22value%22%3Afalse%7D%2C%22fsbo%22%3A%7B%22value%22%3Afalse%7D%2C%22nc%22%3A%7B%22value%22%3Afalse%7D%2C%22cmsn%22%3A%7B%22value%22%3Afalse%7D%2C%22auc%22%3A%7B%22value%22%3Afalse%7D%2C%22fore%22%3A%7B%22value%22%3Afalse%7D%2C%22price%22%3A%7B%22min%22%3A0%2C%22max%22%3Anull%7D%2C%22mp%22%3A%7B%22min%22%3A0%2C%22max%22%3Anull%7D%2C%22ah%22%3A%7B%22value%22%3Atrue%7D%2C%22manu%22%3A%7B%22value%22%3Afalse%7D%2C%22r4r%22%3A%7B%22value%22%3Atrue%7D%7D%2C%22isListVisible%22%3Atrue%7D'"
   ]
  },
  {
   "cell_type": "code",
   "execution_count": 33,
   "id": "a6a61c53-f518-499f-8732-afdda291fbd8",
   "metadata": {},
   "outputs": [
    {
     "data": {
      "text/plain": [
       "200"
      ]
     },
     "execution_count": 33,
     "metadata": {},
     "output_type": "execute_result"
    }
   ],
   "source": [
    "# i got a status of 403, this means that my request was denied, dont know why :(\n",
    "html = requests.get(url=url, headers=header)\n",
    "html.status_code"
   ]
  },
  {
   "cell_type": "code",
   "execution_count": 37,
   "id": "024634fe-c428-4211-a2ee-af0c1ce4bf62",
   "metadata": {},
   "outputs": [],
   "source": [
    "#crate a beautiful soup object in html form\n",
    "obj = soup(html.content,'lxml')"
   ]
  },
  {
   "cell_type": "code",
   "execution_count": null,
   "id": "72c9d064-620d-42e6-add1-f841a643856f",
   "metadata": {},
   "outputs": [],
   "source": [
    "#<div class=\"StyledPropertyCardDataArea-c11n-8-100-8__sc-10i1r6-0 igbdRa\"><div class=\"PropertyCardWrapper__StyledPriceGridContainer-srp-8-100-8__sc-16e8gqd-0 gZmMEQ\"><span data-test=\"property-card-price\" class=\"PropertyCardWrapper__StyledPriceLine-srp-8-100-8__sc-16e8gqd-1 fIxunP\">$1,795+ Studio</span></div></div>"
   ]
  },
  {
   "cell_type": "code",
   "execution_count": 67,
   "id": "e01bbae8-feaf-47cc-9e45-b487fd2e3f4b",
   "metadata": {},
   "outputs": [
    {
     "name": "stdout",
     "output_type": "stream",
     "text": [
      "The price is ['']\n",
      "The price is ['', '$4,095 2 bds']\n",
      "The price is ['', '$4,095 2 bds', '$4,395 3 bds ']\n",
      "The price is ['', '$4,095 2 bds', '$4,395 3 bds ', '']\n",
      "The price is ['', '$4,095 2 bds', '$4,395 3 bds ', '', '$1,795 Studio']\n",
      "The price is ['', '$4,095 2 bds', '$4,395 3 bds ', '', '$1,795 Studio', '$1,915 1 bd ']\n",
      "The price is ['', '$4,095 2 bds', '$4,395 3 bds ', '', '$1,795 Studio', '$1,915 1 bd ', '']\n",
      "The price is ['', '$4,095 2 bds', '$4,395 3 bds ', '', '$1,795 Studio', '$1,915 1 bd ', '', '$1,495/mo']\n",
      "The price is ['', '$4,095 2 bds', '$4,395 3 bds ', '', '$1,795 Studio', '$1,915 1 bd ', '', '$1,495/mo', 'Studio 1 ba500 sqft - Apartment for rent']\n",
      "The price is ['', '$4,095 2 bds', '$4,395 3 bds ', '', '$1,795 Studio', '$1,915 1 bd ', '', '$1,495/mo', 'Studio 1 ba500 sqft - Apartment for rent', '']\n",
      "The price is ['', '$4,095 2 bds', '$4,395 3 bds ', '', '$1,795 Studio', '$1,915 1 bd ', '', '$1,495/mo', 'Studio 1 ba500 sqft - Apartment for rent', '', '$2,300 Studio']\n",
      "The price is ['', '$4,095 2 bds', '$4,395 3 bds ', '', '$1,795 Studio', '$1,915 1 bd ', '', '$1,495/mo', 'Studio 1 ba500 sqft - Apartment for rent', '', '$2,300 Studio', '$2,445 1 bd$3,645 2 bds$4,215 3 bds ']\n",
      "The price is ['', '$4,095 2 bds', '$4,395 3 bds ', '', '$1,795 Studio', '$1,915 1 bd ', '', '$1,495/mo', 'Studio 1 ba500 sqft - Apartment for rent', '', '$2,300 Studio', '$2,445 1 bd$3,645 2 bds$4,215 3 bds ', '']\n",
      "The price is ['', '$4,095 2 bds', '$4,395 3 bds ', '', '$1,795 Studio', '$1,915 1 bd ', '', '$1,495/mo', 'Studio 1 ba500 sqft - Apartment for rent', '', '$2,300 Studio', '$2,445 1 bd$3,645 2 bds$4,215 3 bds ', '', '$2,020 Studio']\n",
      "The price is ['', '$4,095 2 bds', '$4,395 3 bds ', '', '$1,795 Studio', '$1,915 1 bd ', '', '$1,495/mo', 'Studio 1 ba500 sqft - Apartment for rent', '', '$2,300 Studio', '$2,445 1 bd$3,645 2 bds$4,215 3 bds ', '', '$2,020 Studio', ' ']\n",
      "The price is ['', '$4,095 2 bds', '$4,395 3 bds ', '', '$1,795 Studio', '$1,915 1 bd ', '', '$1,495/mo', 'Studio 1 ba500 sqft - Apartment for rent', '', '$2,300 Studio', '$2,445 1 bd$3,645 2 bds$4,215 3 bds ', '', '$2,020 Studio', ' ', '']\n",
      "The price is ['', '$4,095 2 bds', '$4,395 3 bds ', '', '$1,795 Studio', '$1,915 1 bd ', '', '$1,495/mo', 'Studio 1 ba500 sqft - Apartment for rent', '', '$2,300 Studio', '$2,445 1 bd$3,645 2 bds$4,215 3 bds ', '', '$2,020 Studio', ' ', '', '$1,825 1 bd']\n",
      "The price is ['', '$4,095 2 bds', '$4,395 3 bds ', '', '$1,795 Studio', '$1,915 1 bd ', '', '$1,495/mo', 'Studio 1 ba500 sqft - Apartment for rent', '', '$2,300 Studio', '$2,445 1 bd$3,645 2 bds$4,215 3 bds ', '', '$2,020 Studio', ' ', '', '$1,825 1 bd', ' ']\n",
      "The price is ['', '$4,095 2 bds', '$4,395 3 bds ', '', '$1,795 Studio', '$1,915 1 bd ', '', '$1,495/mo', 'Studio 1 ba500 sqft - Apartment for rent', '', '$2,300 Studio', '$2,445 1 bd$3,645 2 bds$4,215 3 bds ', '', '$2,020 Studio', ' ', '', '$1,825 1 bd', ' ', '']\n",
      "The price is ['', '$4,095 2 bds', '$4,395 3 bds ', '', '$1,795 Studio', '$1,915 1 bd ', '', '$1,495/mo', 'Studio 1 ba500 sqft - Apartment for rent', '', '$2,300 Studio', '$2,445 1 bd$3,645 2 bds$4,215 3 bds ', '', '$2,020 Studio', ' ', '', '$1,825 1 bd', ' ', '', '$4,695/mo']\n",
      "The price is ['', '$4,095 2 bds', '$4,395 3 bds ', '', '$1,795 Studio', '$1,915 1 bd ', '', '$1,495/mo', 'Studio 1 ba500 sqft - Apartment for rent', '', '$2,300 Studio', '$2,445 1 bd$3,645 2 bds$4,215 3 bds ', '', '$2,020 Studio', ' ', '', '$1,825 1 bd', ' ', '', '$4,695/mo', 'Studio 1 ba1,695 sqft - Apartment for rent']\n",
      "The price is ['', '$4,095 2 bds', '$4,395 3 bds ', '', '$1,795 Studio', '$1,915 1 bd ', '', '$1,495/mo', 'Studio 1 ba500 sqft - Apartment for rent', '', '$2,300 Studio', '$2,445 1 bd$3,645 2 bds$4,215 3 bds ', '', '$2,020 Studio', ' ', '', '$1,825 1 bd', ' ', '', '$4,695/mo', 'Studio 1 ba1,695 sqft - Apartment for rent', '']\n",
      "The price is ['', '$4,095 2 bds', '$4,395 3 bds ', '', '$1,795 Studio', '$1,915 1 bd ', '', '$1,495/mo', 'Studio 1 ba500 sqft - Apartment for rent', '', '$2,300 Studio', '$2,445 1 bd$3,645 2 bds$4,215 3 bds ', '', '$2,020 Studio', ' ', '', '$1,825 1 bd', ' ', '', '$4,695/mo', 'Studio 1 ba1,695 sqft - Apartment for rent', '', '$2,095/mo']\n",
      "The price is ['', '$4,095 2 bds', '$4,395 3 bds ', '', '$1,795 Studio', '$1,915 1 bd ', '', '$1,495/mo', 'Studio 1 ba500 sqft - Apartment for rent', '', '$2,300 Studio', '$2,445 1 bd$3,645 2 bds$4,215 3 bds ', '', '$2,020 Studio', ' ', '', '$1,825 1 bd', ' ', '', '$4,695/mo', 'Studio 1 ba1,695 sqft - Apartment for rent', '', '$2,095/mo', '1 bd1 ba800 sqft - Apartment for rent']\n",
      "The price is ['', '$4,095 2 bds', '$4,395 3 bds ', '', '$1,795 Studio', '$1,915 1 bd ', '', '$1,495/mo', 'Studio 1 ba500 sqft - Apartment for rent', '', '$2,300 Studio', '$2,445 1 bd$3,645 2 bds$4,215 3 bds ', '', '$2,020 Studio', ' ', '', '$1,825 1 bd', ' ', '', '$4,695/mo', 'Studio 1 ba1,695 sqft - Apartment for rent', '', '$2,095/mo', '1 bd1 ba800 sqft - Apartment for rent', '']\n",
      "The price is ['', '$4,095 2 bds', '$4,395 3 bds ', '', '$1,795 Studio', '$1,915 1 bd ', '', '$1,495/mo', 'Studio 1 ba500 sqft - Apartment for rent', '', '$2,300 Studio', '$2,445 1 bd$3,645 2 bds$4,215 3 bds ', '', '$2,020 Studio', ' ', '', '$1,825 1 bd', ' ', '', '$4,695/mo', 'Studio 1 ba1,695 sqft - Apartment for rent', '', '$2,095/mo', '1 bd1 ba800 sqft - Apartment for rent', '', '$2,050 Studio']\n",
      "The price is ['', '$4,095 2 bds', '$4,395 3 bds ', '', '$1,795 Studio', '$1,915 1 bd ', '', '$1,495/mo', 'Studio 1 ba500 sqft - Apartment for rent', '', '$2,300 Studio', '$2,445 1 bd$3,645 2 bds$4,215 3 bds ', '', '$2,020 Studio', ' ', '', '$1,825 1 bd', ' ', '', '$4,695/mo', 'Studio 1 ba1,695 sqft - Apartment for rent', '', '$2,095/mo', '1 bd1 ba800 sqft - Apartment for rent', '', '$2,050 Studio', ' ']\n"
     ]
    }
   ],
   "source": [
    "la_home_price = []\n",
    "for price in obj.findAll('div',{'class': 'StyledPropertyCardDataArea-c11n-8-100-8__sc-10i1r6-0'}):\n",
    "    la_home_price.append(price.text.replace('+',''))#replace('bd','b|'))\n",
    "    #print(\"Price is:\", price.text)\n",
    "    print(\"The price is\", la_home_price)"
   ]
  },
  {
   "cell_type": "code",
   "execution_count": 60,
   "id": "e1346106-400f-40d8-9cee-f1fbcd7fded1",
   "metadata": {},
   "outputs": [
    {
     "name": "stdout",
     "output_type": "stream",
     "text": [
      " \n"
     ]
    }
   ],
   "source": [
    "print(price.text)"
   ]
  }
 ],
 "metadata": {
  "kernelspec": {
   "display_name": "Python 3 (ipykernel)",
   "language": "python",
   "name": "python3"
  },
  "language_info": {
   "codemirror_mode": {
    "name": "ipython",
    "version": 3
   },
   "file_extension": ".py",
   "mimetype": "text/x-python",
   "name": "python",
   "nbconvert_exporter": "python",
   "pygments_lexer": "ipython3",
   "version": "3.10.5"
  }
 },
 "nbformat": 4,
 "nbformat_minor": 5
}
